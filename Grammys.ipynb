{
 "cells": [
  {
   "cell_type": "code",
   "execution_count": null,
   "id": "15d27497",
   "metadata": {},
   "outputs": [],
   "source": [
    "import pandas as pd\n",
    "import numpy as np\n",
    "import matplotlib.pyplot as plt # <<--- ESTA ES LA CLAVE\n",
    "import seaborn as sns # También útil para mejores gráficos\n",
    "import os\n",
    "\n",
    "grammys_csv = pd.read_csv('datasets/Grammy Award Nominees and Winners 1958-2024.csv')"
   ]
  },
  {
   "cell_type": "code",
   "execution_count": 11,
   "id": "28e1e2f4",
   "metadata": {},
   "outputs": [
    {
     "name": "stdout",
     "output_type": "stream",
     "text": [
      "Grammy Dataset Shape: (25305, 9)\n",
      "\n",
      "First 5 rows:\n"
     ]
    },
    {
     "data": {
      "text/html": [
       "<div>\n",
       "<style scoped>\n",
       "    .dataframe tbody tr th:only-of-type {\n",
       "        vertical-align: middle;\n",
       "    }\n",
       "\n",
       "    .dataframe tbody tr th {\n",
       "        vertical-align: top;\n",
       "    }\n",
       "\n",
       "    .dataframe thead th {\n",
       "        text-align: right;\n",
       "    }\n",
       "</style>\n",
       "<table border=\"1\" class=\"dataframe\">\n",
       "  <thead>\n",
       "    <tr style=\"text-align: right;\">\n",
       "      <th></th>\n",
       "      <th>Unnamed: 0</th>\n",
       "      <th>Year</th>\n",
       "      <th>Ceremony</th>\n",
       "      <th>Award ID</th>\n",
       "      <th>Award Type</th>\n",
       "      <th>Award Name</th>\n",
       "      <th>Work</th>\n",
       "      <th>Nominee</th>\n",
       "      <th>Winner</th>\n",
       "    </tr>\n",
       "  </thead>\n",
       "  <tbody>\n",
       "    <tr>\n",
       "      <th>0</th>\n",
       "      <td>0</td>\n",
       "      <td>1958</td>\n",
       "      <td>1</td>\n",
       "      <td>587</td>\n",
       "      <td>Work</td>\n",
       "      <td>Best Recording For Children</td>\n",
       "      <td>Childrens' Marching Song (Album)</td>\n",
       "      <td>Cyril Stapleton</td>\n",
       "      <td>False</td>\n",
       "    </tr>\n",
       "    <tr>\n",
       "      <th>1</th>\n",
       "      <td>1</td>\n",
       "      <td>1958</td>\n",
       "      <td>1</td>\n",
       "      <td>587</td>\n",
       "      <td>Work</td>\n",
       "      <td>Best Recording For Children</td>\n",
       "      <td>Mommy, Give Me A Drinka Water (Album)</td>\n",
       "      <td>Danny Kaye</td>\n",
       "      <td>False</td>\n",
       "    </tr>\n",
       "    <tr>\n",
       "      <th>2</th>\n",
       "      <td>2</td>\n",
       "      <td>1958</td>\n",
       "      <td>1</td>\n",
       "      <td>587</td>\n",
       "      <td>Work</td>\n",
       "      <td>Best Recording For Children</td>\n",
       "      <td>The Witch Doctor</td>\n",
       "      <td>David Seville And The Chipmunks</td>\n",
       "      <td>False</td>\n",
       "    </tr>\n",
       "    <tr>\n",
       "      <th>3</th>\n",
       "      <td>3</td>\n",
       "      <td>1958</td>\n",
       "      <td>1</td>\n",
       "      <td>587</td>\n",
       "      <td>Work</td>\n",
       "      <td>Best Recording For Children</td>\n",
       "      <td>Tubby The Tuba</td>\n",
       "      <td>Jose Ferrer</td>\n",
       "      <td>False</td>\n",
       "    </tr>\n",
       "    <tr>\n",
       "      <th>4</th>\n",
       "      <td>4</td>\n",
       "      <td>1958</td>\n",
       "      <td>1</td>\n",
       "      <td>587</td>\n",
       "      <td>Work</td>\n",
       "      <td>Best Recording For Children</td>\n",
       "      <td>Fun In Shariland (Album)</td>\n",
       "      <td>Shari Lewis And Lambchop</td>\n",
       "      <td>False</td>\n",
       "    </tr>\n",
       "  </tbody>\n",
       "</table>\n",
       "</div>"
      ],
      "text/plain": [
       "   Unnamed: 0  Year  Ceremony  Award ID Award Type  \\\n",
       "0           0  1958         1       587       Work   \n",
       "1           1  1958         1       587       Work   \n",
       "2           2  1958         1       587       Work   \n",
       "3           3  1958         1       587       Work   \n",
       "4           4  1958         1       587       Work   \n",
       "\n",
       "                    Award Name                                   Work  \\\n",
       "0  Best Recording For Children       Childrens' Marching Song (Album)   \n",
       "1  Best Recording For Children  Mommy, Give Me A Drinka Water (Album)   \n",
       "2  Best Recording For Children                       The Witch Doctor   \n",
       "3  Best Recording For Children                         Tubby The Tuba   \n",
       "4  Best Recording For Children               Fun In Shariland (Album)   \n",
       "\n",
       "                           Nominee  Winner  \n",
       "0                  Cyril Stapleton   False  \n",
       "1                       Danny Kaye   False  \n",
       "2  David Seville And The Chipmunks   False  \n",
       "3                      Jose Ferrer   False  \n",
       "4         Shari Lewis And Lambchop   False  "
      ]
     },
     "execution_count": 11,
     "metadata": {},
     "output_type": "execute_result"
    }
   ],
   "source": [
    "# Load CSV file\n",
    "grammys_csv = pd.read_csv('datasets/Grammy Award Nominees and Winners 1958-2024.csv')\n",
    "\n",
    "# Load Excel file (alternative method)\n",
    "# grammys_excel = pd.read_excel('datasets/Grammy Award Nominees and Winners 1958-2024.xls')\n",
    "\n",
    "# Load supplementary data\n",
    "producer_data = pd.read_csv('datasets/Supplementary Table Producer of the Year 2019-2024.csv')\n",
    "\n",
    "# Display basic information about the dataset\n",
    "print(\"Grammy Dataset Shape:\", grammys_csv.shape)\n",
    "print(\"\\nFirst 5 rows:\")\n",
    "grammys_csv.head()"
   ]
  },
  {
   "cell_type": "code",
   "execution_count": 20,
   "id": "19218adb",
   "metadata": {},
   "outputs": [
    {
     "data": {
      "text/plain": [
       "<Axes: title={'center': 'Premios/Nominaciones por Año'}, xlabel='Year'>"
      ]
     },
     "execution_count": 20,
     "metadata": {},
     "output_type": "execute_result"
    },
    {
     "data": {
      "image/png": "[encoded data removed]",
      "text/plain": [
       "<Figure size 640x480 with 1 Axes>"
      ]
     },
     "metadata": {},
     "output_type": "display_data"
    }
   ],
   "source": [
    "# Distribución de premios por año \n",
    "#  ¿Hay más premios en algunos años que en otros?\n",
    "#¿Han aumentado las categorías en el tiempo?\n",
    "    \n",
    "    #¿Hay años con más nominaciones que otros?\n",
    "df = grammys_csv.copy()\n",
    "df.groupby('Year').size().plot(kind='line', title='Premios/Nominaciones por Año')\n"
   ]
  },
  {
   "cell_type": "code",
   "execution_count": 38,
   "id": "b8c07e41",
   "metadata": {},
   "outputs": [
    {
     "name": "stdout",
     "output_type": "stream",
     "text": [
      "    Unnamed: 0  Year  Ceremony  Award ID Award Type  \\\n",
      "5            5  1958         1       587       Work   \n",
      "11          11  1958         1       590       Work   \n",
      "18          18  1958         1       594       Work   \n",
      "24          24  1958         1       597       Work   \n",
      "29          29  1958         1       598       Work   \n",
      "\n",
      "                                           Award Name  \\\n",
      "5                         Best Recording For Children   \n",
      "11    Best Classical Performance - Operatic Or Choral   \n",
      "18             Best Classical Performance - Orchestra   \n",
      "24  Best Classical Performance - Instrumentalist (...   \n",
      "29  Best Classical Performance - Instrumentalist (...   \n",
      "\n",
      "                                                 Work  \\\n",
      "5                                   The Chipmunk Song   \n",
      "11                                           Virtuoso   \n",
      "18                                  Gaiete Parisienne   \n",
      "24  Tchaikovsky: Piano Concerto No. 1 In B Flat Mi...   \n",
      "29                             Segovia Golden Jubilee   \n",
      "\n",
      "                                              Nominee  Winner  \n",
      "5   David Seville And The Chipmunks (Ross Bagdasar...    True  \n",
      "11                       Roger Wagner, choir director    True  \n",
      "18                         (Hollywood Bowl Orchestra)    True  \n",
      "24  Van Cliburn, artist (Symphony Of The Air Orche...    True  \n",
      "29                             Andres Segovia, artist    True  \n"
     ]
    }
   ],
   "source": [
    "# Artistas más premiados\n",
    "    #¿Quién ha ganado más grammys en la historia?\n",
    "    #¿Qué artistas son dominantes en ciertos géneros o décadas?\n",
    "df = grammys_csv.copy()\n",
    "df_winners = df[df['Winner']]\n",
    "print(df_winners.head())"
   ]
  },
  {
   "cell_type": "code",
   "execution_count": null,
   "id": "5f60260a",
   "metadata": {},
   "outputs": [],
   "source": []
  }
 ],
 "metadata": {
  "kernelspec": {
   "display_name": ".venv",
   "language": "python",
   "name": "python3"
  },
  "language_info": {
   "codemirror_mode": {
    "name": "ipython",
    "version": 3
   },
   "file_extension": ".py",
   "mimetype": "text/x-python",
   "name": "python",
   "nbconvert_exporter": "python",
   "pygments_lexer": "ipython3",
   "version": "3.12.3"
  }
 },
 "nbformat": 4,
 "nbformat_minor": 5
}
